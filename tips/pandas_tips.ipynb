{
 "cells": [
  {
   "cell_type": "code",
   "execution_count": 1,
   "id": "78b19a43-673e-4f30-8d4b-032a3f4910ad",
   "metadata": {},
   "outputs": [],
   "source": [
    "import pandas as pd\n",
    "pd.set_option('display.max_rows', 50)\n",
    "pd.set_option('display.max_columns', 50)"
   ]
  },
  {
   "cell_type": "markdown",
   "id": "953d359f-257b-41ab-91ba-8317de4f4b47",
   "metadata": {},
   "source": [
    "## How much memory is used by Pandas Dataframe"
   ]
  },
  {
   "cell_type": "code",
   "execution_count": 2,
   "id": "3c78b67e-8c29-44dd-8c5d-e9e36b092868",
   "metadata": {},
   "outputs": [
    {
     "name": "stdout",
     "output_type": "stream",
     "text": [
      "   carat      cut color clarity  depth  table  price     x     y     z\n",
      "0   0.23    Ideal     E     SI2   61.5   55.0    326  3.95  3.98  2.43\n",
      "1   0.21  Premium     E     SI1   59.8   61.0    326  3.89  3.84  2.31\n",
      "2   0.23     Good     E     VS1   56.9   65.0    327  4.05  4.07  2.31\n",
      "3   0.29  Premium     I     VS2   62.4   58.0    334  4.20  4.23  2.63\n",
      "4   0.31     Good     J     SI2   63.3   58.0    335  4.34  4.35  2.75\n"
     ]
    }
   ],
   "source": [
    "diamonds = pd.read_csv('diamonds.csv')\n",
    "print(diamonds.head())"
   ]
  },
  {
   "cell_type": "markdown",
   "id": "10d566c5-b5bd-42a9-b5bd-b4ae1b9c5dde",
   "metadata": {},
   "source": [
    "##### Memory used by each column in Pandas Dataframe"
   ]
  },
  {
   "cell_type": "code",
   "execution_count": 3,
   "id": "576201ef-5340-44fb-a094-4fc5d02d8d79",
   "metadata": {},
   "outputs": [
    {
     "data": {
      "text/plain": [
       "Index          128\n",
       "carat       431520\n",
       "cut        3413674\n",
       "color      3128520\n",
       "clarity    3242590\n",
       "depth       431520\n",
       "table       431520\n",
       "price       431520\n",
       "x           431520\n",
       "y           431520\n",
       "z           431520\n",
       "dtype: int64"
      ]
     },
     "execution_count": 3,
     "metadata": {},
     "output_type": "execute_result"
    }
   ],
   "source": [
    "diamonds.memory_usage(deep=True)"
   ]
  },
  {
   "cell_type": "markdown",
   "id": "d0c574f0-e99a-4453-a1d8-4e55e1fa7c49",
   "metadata": {},
   "source": [
    "##### Total memory used by Dataframe"
   ]
  },
  {
   "cell_type": "code",
   "execution_count": 4,
   "id": "88af5aa7-4cb5-4f1e-b682-e55a9fad2e0a",
   "metadata": {},
   "outputs": [
    {
     "data": {
      "text/plain": [
       "12805552"
      ]
     },
     "execution_count": 4,
     "metadata": {},
     "output_type": "execute_result"
    }
   ],
   "source": [
    "diamonds.memory_usage(deep=True).sum()"
   ]
  },
  {
   "cell_type": "code",
   "execution_count": null,
   "id": "d6b7270b-4dd2-4017-8e5e-1803575a264e",
   "metadata": {},
   "outputs": [],
   "source": []
  }
 ],
 "metadata": {
  "kernelspec": {
   "display_name": "default:Python",
   "language": "python",
   "name": "conda-env-default-py"
  },
  "language_info": {
   "codemirror_mode": {
    "name": "ipython",
    "version": 3
   },
   "file_extension": ".py",
   "mimetype": "text/x-python",
   "name": "python",
   "nbconvert_exporter": "python",
   "pygments_lexer": "ipython3",
   "version": "3.9.12"
  }
 },
 "nbformat": 4,
 "nbformat_minor": 5
}
