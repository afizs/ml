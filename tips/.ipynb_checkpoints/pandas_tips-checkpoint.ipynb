{
 "cells": [
  {
   "cell_type": "markdown",
   "id": "953d359f-257b-41ab-91ba-8317de4f4b47",
   "metadata": {},
   "source": [
    "## 1. How much memory is used by Pandas Dataframe"
   ]
  },
  {
   "cell_type": "code",
   "execution_count": 1,
   "id": "78b19a43-673e-4f30-8d4b-032a3f4910ad",
   "metadata": {},
   "outputs": [],
   "source": [
    "import pandas as pd\n",
    "pd.set_option('display.max_rows', 50)\n",
    "pd.set_option('display.max_columns', 50)"
   ]
  },
  {
   "cell_type": "code",
   "execution_count": 2,
   "id": "3c78b67e-8c29-44dd-8c5d-e9e36b092868",
   "metadata": {},
   "outputs": [
    {
     "name": "stdout",
     "output_type": "stream",
     "text": [
      "   carat      cut color clarity  depth  table  price     x     y     z\n",
      "0   0.23    Ideal     E     SI2   61.5   55.0    326  3.95  3.98  2.43\n",
      "1   0.21  Premium     E     SI1   59.8   61.0    326  3.89  3.84  2.31\n",
      "2   0.23     Good     E     VS1   56.9   65.0    327  4.05  4.07  2.31\n",
      "3   0.29  Premium     I     VS2   62.4   58.0    334  4.20  4.23  2.63\n",
      "4   0.31     Good     J     SI2   63.3   58.0    335  4.34  4.35  2.75\n"
     ]
    }
   ],
   "source": [
    "diamonds = pd.read_csv('diamonds.csv')\n",
    "print(diamonds.head())"
   ]
  },
  {
   "cell_type": "markdown",
   "id": "10d566c5-b5bd-42a9-b5bd-b4ae1b9c5dde",
   "metadata": {},
   "source": [
    "##### Memory used by each column in Pandas Dataframe"
   ]
  },
  {
   "cell_type": "code",
   "execution_count": 3,
   "id": "576201ef-5340-44fb-a094-4fc5d02d8d79",
   "metadata": {},
   "outputs": [
    {
     "data": {
      "text/plain": [
       "Index          128\n",
       "carat       431520\n",
       "cut        3413674\n",
       "color      3128520\n",
       "clarity    3242590\n",
       "depth       431520\n",
       "table       431520\n",
       "price       431520\n",
       "x           431520\n",
       "y           431520\n",
       "z           431520\n",
       "dtype: int64"
      ]
     },
     "execution_count": 3,
     "metadata": {},
     "output_type": "execute_result"
    }
   ],
   "source": [
    "diamonds.memory_usage(deep=True)"
   ]
  },
  {
   "cell_type": "markdown",
   "id": "d0c574f0-e99a-4453-a1d8-4e55e1fa7c49",
   "metadata": {},
   "source": [
    "##### Total memory used by Dataframe"
   ]
  },
  {
   "cell_type": "code",
   "execution_count": 4,
   "id": "88af5aa7-4cb5-4f1e-b682-e55a9fad2e0a",
   "metadata": {},
   "outputs": [
    {
     "data": {
      "text/plain": [
       "12805552"
      ]
     },
     "execution_count": 4,
     "metadata": {},
     "output_type": "execute_result"
    }
   ],
   "source": [
    "diamonds.memory_usage(deep=True).sum()"
   ]
  },
  {
   "cell_type": "code",
   "execution_count": 10,
   "id": "efc8deac-56d0-469d-8af9-7c8dc30f6321",
   "metadata": {},
   "outputs": [],
   "source": [
    "import numpy as np"
   ]
  },
  {
   "cell_type": "markdown",
   "id": "b24840c8-922a-4e7b-b7ec-8f0e5402ad7c",
   "metadata": {},
   "source": [
    "## 2. Save memory with pandas\n",
    "\n",
    "Let's try to reduce the memory usage for `cut` column. First let's check how much memory is used."
   ]
  },
  {
   "cell_type": "code",
   "execution_count": 5,
   "id": "1b7f30f0-28a0-421a-8812-b01ba29e75c9",
   "metadata": {},
   "outputs": [
    {
     "data": {
      "text/plain": [
       "3413802"
      ]
     },
     "execution_count": 5,
     "metadata": {},
     "output_type": "execute_result"
    }
   ],
   "source": [
    "diamonds['cut'].memory_usage(deep=True)"
   ]
  },
  {
   "cell_type": "markdown",
   "id": "c8b0d112-2776-42ce-98cb-05306829ae7e",
   "metadata": {},
   "source": [
    "#### 2.1 Saving memory using categories.  \n",
    "As you can see below, there only 5 unique values are there `cut` column."
   ]
  },
  {
   "cell_type": "code",
   "execution_count": 6,
   "id": "bb98552c-7d0a-463d-870e-44353211a507",
   "metadata": {},
   "outputs": [
    {
     "data": {
      "text/plain": [
       "array(['Ideal', 'Premium', 'Good', 'Very Good', 'Fair'], dtype=object)"
      ]
     },
     "execution_count": 6,
     "metadata": {},
     "output_type": "execute_result"
    }
   ],
   "source": [
    "diamonds['cut'].unique()"
   ]
  },
  {
   "cell_type": "markdown",
   "id": "be584182-e688-4549-81ea-3c9ed64cfa36",
   "metadata": {},
   "source": [
    "##### See the difference in memory usage with Category"
   ]
  },
  {
   "cell_type": "code",
   "execution_count": 7,
   "id": "30d562c8-2c95-470d-81f4-1829bf88ff65",
   "metadata": {},
   "outputs": [
    {
     "name": "stdout",
     "output_type": "stream",
     "text": [
      "3413802\n",
      "54554\n"
     ]
    }
   ],
   "source": [
    "print(diamonds['cut'].memory_usage(deep=True))\n",
    "print(diamonds['cut'].astype('category').memory_usage(deep=True))"
   ]
  },
  {
   "cell_type": "markdown",
   "id": "f790ff08-6b16-4342-ac63-932b9122e571",
   "metadata": {},
   "source": [
    "#### 2.2 Saving memory using short numbers. \n",
    "\n",
    "By default, `int64` is used by pandas dataframe for numbers, which is not required for all the columns."
   ]
  },
  {
   "cell_type": "code",
   "execution_count": 8,
   "id": "571e6670-92f9-45a0-8f7b-41dae82a96d0",
   "metadata": {},
   "outputs": [
    {
     "data": {
      "text/plain": [
       "(326, 18823)"
      ]
     },
     "execution_count": 8,
     "metadata": {},
     "output_type": "execute_result"
    }
   ],
   "source": [
    "diamonds['price'].min(), diamonds['price'].max()"
   ]
  },
  {
   "cell_type": "markdown",
   "id": "47c37f40-eda8-4392-8cd3-bd0dfcd9ed6e",
   "metadata": {},
   "source": [
    "`price` column has values between 326 to 18823, which can be covered using `int16`"
   ]
  },
  {
   "cell_type": "code",
   "execution_count": 11,
   "id": "e689de53-9893-4330-8706-60fb2cb8fffd",
   "metadata": {},
   "outputs": [
    {
     "data": {
      "text/plain": [
       "iinfo(min=-32768, max=32767, dtype=int16)"
      ]
     },
     "execution_count": 11,
     "metadata": {},
     "output_type": "execute_result"
    }
   ],
   "source": [
    "np.iinfo('int16')"
   ]
  },
  {
   "cell_type": "code",
   "execution_count": 12,
   "id": "9bdf2ad5-5e7e-45f4-a676-bc545775c7b6",
   "metadata": {},
   "outputs": [
    {
     "name": "stdout",
     "output_type": "stream",
     "text": [
      "int16 --> 108008\n",
      "int64 --> 431648\n"
     ]
    }
   ],
   "source": [
    "print('int16 -->', diamonds['price'].astype('int16').memory_usage(deep=True))\n",
    "print('int64 -->', diamonds['price'].memory_usage(deep=True))"
   ]
  },
  {
   "cell_type": "markdown",
   "id": "64489ac8-f322-4869-8a04-7111fd21ef0f",
   "metadata": {},
   "source": [
    "Follow me @itsafiz for more Python and ML content."
   ]
  },
  {
   "cell_type": "code",
   "execution_count": null,
   "id": "0c71ed93-33c6-4514-b4ef-ea1d3043b106",
   "metadata": {},
   "outputs": [],
   "source": []
  }
 ],
 "metadata": {
  "kernelspec": {
   "display_name": "default:Python",
   "language": "python",
   "name": "conda-env-default-py"
  },
  "language_info": {
   "codemirror_mode": {
    "name": "ipython",
    "version": 3
   },
   "file_extension": ".py",
   "mimetype": "text/x-python",
   "name": "python",
   "nbconvert_exporter": "python",
   "pygments_lexer": "ipython3",
   "version": "3.9.12"
  }
 },
 "nbformat": 4,
 "nbformat_minor": 5
}
